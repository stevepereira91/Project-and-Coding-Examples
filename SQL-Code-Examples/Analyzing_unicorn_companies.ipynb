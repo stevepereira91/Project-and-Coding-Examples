{
 "cells": [
  {
   "cell_type": "markdown",
   "metadata": {},
   "source": [
    "![Hand with calculator](calculator.png \"Calculator\")\n",
    "\n",
    "Did you know that the average return from investing in stocks is 10% per year! But who wants to be average?! \n",
    "\n",
    "You have been asked to support an investment firm by analyzing trends in high-growth companies. They are interested in understanding which industries are producing the highest valuations and the rate at which new high-value companies are emerging. Providing them with this information gives them a competitive insight as to industry trends and how they should structure their portfolio looking forward.\n",
    "\n",
    "You have been given access to their `unicorns` database, which contains the following tables:\n",
    "\n",
    "`dates`\n",
    "\n",
    "| Column       | Description                                  |\n",
    "|------------- |--------------------------------------------- |\n",
    "| company_id   | A unique ID for the company.                 |\n",
    "| date_joined  | The date that the company became a unicorn.  |\n",
    "| year_founded | The year that the company was founded.       |\n",
    "\n",
    "`funding`\n",
    "\n",
    "| Column           | Description                                  |\n",
    "|----------------- |--------------------------------------------- |\n",
    "| company_id       | A unique ID for the company.                 |\n",
    "| valuation        | Company value in US dollars.                 |\n",
    "| funding          | The amount of funding raised in US dollars.  |\n",
    "| select_investors | A list of key investors in the company.      |\n",
    "\n",
    "`industries`\n",
    "\n",
    "| Column       | Description                                  |\n",
    "|------------- |--------------------------------------------- |\n",
    "| company_id   | A unique ID for the company.                 |\n",
    "| industry     | The industry that the company operates in.   |\n",
    "\n",
    "`companies`\n",
    "\n",
    "| Column       | Description                                       |\n",
    "|------------- |-------------------------------------------------- |\n",
    "| company_id   | A unique ID for the company.                      |\n",
    "| company      | The name of the company.                          |\n",
    "| city         | The city where the company is headquartered.      |\n",
    "| country      | The country where the company is headquartered.   |\n",
    "| continent    | The continent where the company is headquartered. |\n"
   ]
  },
  {
   "cell_type": "code",
   "execution_count": 32,
   "metadata": {
    "customType": "sql",
    "dataFrameVariableName": "df",
    "initial": false,
    "integrationId": "89e17161-a224-4a8a-846b-0adc0fe7a4b1"
   },
   "outputs": [
    {
     "data": {
      "application/com.datacamp.data-table.v1+json": {
       "table": {
        "data": [
         {
          "company_id": 189,
          "index": 0,
          "industry": "Health"
         },
         {
          "company_id": 848,
          "index": 1,
          "industry": "Fintech"
         },
         {
          "company_id": 556,
          "index": 2,
          "industry": "Internet software & services"
         },
         {
          "company_id": 999,
          "index": 3,
          "industry": "Internet software & services"
         },
         {
          "company_id": 396,
          "index": 4,
          "industry": "Fintech"
         }
        ],
        "schema": {
         "fields": [
          {
           "name": "index",
           "type": "integer"
          },
          {
           "name": "company_id",
           "type": "integer"
          },
          {
           "name": "industry",
           "type": "string"
          }
         ],
         "pandas_version": "1.4.0",
         "primaryKey": [
          "index"
         ]
        }
       },
       "total_rows": 5,
       "truncation_type": null
      },
      "text/html": [
       "<div>\n",
       "<style scoped>\n",
       "    .dataframe tbody tr th:only-of-type {\n",
       "        vertical-align: middle;\n",
       "    }\n",
       "\n",
       "    .dataframe tbody tr th {\n",
       "        vertical-align: top;\n",
       "    }\n",
       "\n",
       "    .dataframe thead th {\n",
       "        text-align: right;\n",
       "    }\n",
       "</style>\n",
       "<table border=\"1\" class=\"dataframe\">\n",
       "  <thead>\n",
       "    <tr style=\"text-align: right;\">\n",
       "      <th></th>\n",
       "      <th>company_id</th>\n",
       "      <th>industry</th>\n",
       "    </tr>\n",
       "  </thead>\n",
       "  <tbody>\n",
       "    <tr>\n",
       "      <th>0</th>\n",
       "      <td>189</td>\n",
       "      <td>Health</td>\n",
       "    </tr>\n",
       "    <tr>\n",
       "      <th>1</th>\n",
       "      <td>848</td>\n",
       "      <td>Fintech</td>\n",
       "    </tr>\n",
       "    <tr>\n",
       "      <th>2</th>\n",
       "      <td>556</td>\n",
       "      <td>Internet software &amp; services</td>\n",
       "    </tr>\n",
       "    <tr>\n",
       "      <th>3</th>\n",
       "      <td>999</td>\n",
       "      <td>Internet software &amp; services</td>\n",
       "    </tr>\n",
       "    <tr>\n",
       "      <th>4</th>\n",
       "      <td>396</td>\n",
       "      <td>Fintech</td>\n",
       "    </tr>\n",
       "  </tbody>\n",
       "</table>\n",
       "</div>"
      ],
      "text/plain": [
       "   company_id                      industry\n",
       "0         189                        Health\n",
       "1         848                       Fintech\n",
       "2         556  Internet software & services\n",
       "3         999  Internet software & services\n",
       "4         396                       Fintech"
      ]
     },
     "execution_count": 32,
     "metadata": {},
     "output_type": "execute_result"
    }
   ],
   "source": [
    "SELECT * FROM industries\n",
    "LIMIT 5"
   ]
  },
  {
   "cell_type": "code",
   "execution_count": 33,
   "metadata": {
    "customType": "sql",
    "dataFrameVariableName": "df",
    "initial": false,
    "integrationId": "89e17161-a224-4a8a-846b-0adc0fe7a4b1"
   },
   "outputs": [
    {
     "data": {
      "application/com.datacamp.data-table.v1+json": {
       "table": {
        "data": [
         {
          "average_valuation_billions": 2.47,
          "index": 0,
          "industry": "E-commerce & direct-to-consumer",
          "num_unicorns": 47,
          "year": 2021
         },
         {
          "average_valuation_billions": 4,
          "index": 1,
          "industry": "E-commerce & direct-to-consumer",
          "num_unicorns": 16,
          "year": 2020
         },
         {
          "average_valuation_billions": 2.58,
          "index": 2,
          "industry": "E-commerce & direct-to-consumer",
          "num_unicorns": 12,
          "year": 2019
         },
         {
          "average_valuation_billions": 2.75,
          "index": 3,
          "industry": "Fintech",
          "num_unicorns": 138,
          "year": 2021
         },
         {
          "average_valuation_billions": 4.33,
          "index": 4,
          "industry": "Fintech",
          "num_unicorns": 15,
          "year": 2020
         },
         {
          "average_valuation_billions": 6.8,
          "index": 5,
          "industry": "Fintech",
          "num_unicorns": 20,
          "year": 2019
         },
         {
          "average_valuation_billions": 2.15,
          "index": 6,
          "industry": "Internet software & services",
          "num_unicorns": 119,
          "year": 2021
         },
         {
          "average_valuation_billions": 4.35,
          "index": 7,
          "industry": "Internet software & services",
          "num_unicorns": 20,
          "year": 2020
         },
         {
          "average_valuation_billions": 4.23,
          "index": 8,
          "industry": "Internet software & services",
          "num_unicorns": 13,
          "year": 2019
         }
        ],
        "schema": {
         "fields": [
          {
           "name": "index",
           "type": "integer"
          },
          {
           "name": "industry",
           "type": "string"
          },
          {
           "name": "year",
           "type": "integer"
          },
          {
           "name": "num_unicorns",
           "type": "integer"
          },
          {
           "name": "average_valuation_billions",
           "type": "number"
          }
         ],
         "pandas_version": "1.4.0",
         "primaryKey": [
          "index"
         ]
        }
       },
       "total_rows": 9,
       "truncation_type": null
      },
      "text/html": [
       "<div>\n",
       "<style scoped>\n",
       "    .dataframe tbody tr th:only-of-type {\n",
       "        vertical-align: middle;\n",
       "    }\n",
       "\n",
       "    .dataframe tbody tr th {\n",
       "        vertical-align: top;\n",
       "    }\n",
       "\n",
       "    .dataframe thead th {\n",
       "        text-align: right;\n",
       "    }\n",
       "</style>\n",
       "<table border=\"1\" class=\"dataframe\">\n",
       "  <thead>\n",
       "    <tr style=\"text-align: right;\">\n",
       "      <th></th>\n",
       "      <th>industry</th>\n",
       "      <th>year</th>\n",
       "      <th>num_unicorns</th>\n",
       "      <th>average_valuation_billions</th>\n",
       "    </tr>\n",
       "  </thead>\n",
       "  <tbody>\n",
       "    <tr>\n",
       "      <th>0</th>\n",
       "      <td>E-commerce &amp; direct-to-consumer</td>\n",
       "      <td>2021</td>\n",
       "      <td>47</td>\n",
       "      <td>2.47</td>\n",
       "    </tr>\n",
       "    <tr>\n",
       "      <th>1</th>\n",
       "      <td>E-commerce &amp; direct-to-consumer</td>\n",
       "      <td>2020</td>\n",
       "      <td>16</td>\n",
       "      <td>4.00</td>\n",
       "    </tr>\n",
       "    <tr>\n",
       "      <th>2</th>\n",
       "      <td>E-commerce &amp; direct-to-consumer</td>\n",
       "      <td>2019</td>\n",
       "      <td>12</td>\n",
       "      <td>2.58</td>\n",
       "    </tr>\n",
       "    <tr>\n",
       "      <th>3</th>\n",
       "      <td>Fintech</td>\n",
       "      <td>2021</td>\n",
       "      <td>138</td>\n",
       "      <td>2.75</td>\n",
       "    </tr>\n",
       "    <tr>\n",
       "      <th>4</th>\n",
       "      <td>Fintech</td>\n",
       "      <td>2020</td>\n",
       "      <td>15</td>\n",
       "      <td>4.33</td>\n",
       "    </tr>\n",
       "    <tr>\n",
       "      <th>5</th>\n",
       "      <td>Fintech</td>\n",
       "      <td>2019</td>\n",
       "      <td>20</td>\n",
       "      <td>6.80</td>\n",
       "    </tr>\n",
       "    <tr>\n",
       "      <th>6</th>\n",
       "      <td>Internet software &amp; services</td>\n",
       "      <td>2021</td>\n",
       "      <td>119</td>\n",
       "      <td>2.15</td>\n",
       "    </tr>\n",
       "    <tr>\n",
       "      <th>7</th>\n",
       "      <td>Internet software &amp; services</td>\n",
       "      <td>2020</td>\n",
       "      <td>20</td>\n",
       "      <td>4.35</td>\n",
       "    </tr>\n",
       "    <tr>\n",
       "      <th>8</th>\n",
       "      <td>Internet software &amp; services</td>\n",
       "      <td>2019</td>\n",
       "      <td>13</td>\n",
       "      <td>4.23</td>\n",
       "    </tr>\n",
       "  </tbody>\n",
       "</table>\n",
       "</div>"
      ],
      "text/plain": [
       "                          industry  year  num_unicorns  \\\n",
       "0  E-commerce & direct-to-consumer  2021            47   \n",
       "1  E-commerce & direct-to-consumer  2020            16   \n",
       "2  E-commerce & direct-to-consumer  2019            12   \n",
       "3                          Fintech  2021           138   \n",
       "4                          Fintech  2020            15   \n",
       "5                          Fintech  2019            20   \n",
       "6     Internet software & services  2021           119   \n",
       "7     Internet software & services  2020            20   \n",
       "8     Internet software & services  2019            13   \n",
       "\n",
       "   average_valuation_billions  \n",
       "0                        2.47  \n",
       "1                        4.00  \n",
       "2                        2.58  \n",
       "3                        2.75  \n",
       "4                        4.33  \n",
       "5                        6.80  \n",
       "6                        2.15  \n",
       "7                        4.35  \n",
       "8                        4.23  "
      ]
     },
     "execution_count": 33,
     "metadata": {},
     "output_type": "execute_result"
    }
   ],
   "source": [
    "WITH top_industries AS \n",
    "(SELECT industry, COUNT(*)\n",
    "FROM industries\n",
    "INNER JOIN dates\n",
    "USING(company_id)\n",
    "WHERE EXTRACT(year FROM date_joined) IN (2019,2020,2021)\n",
    "GROUP BY Industry\n",
    "ORDER BY count DESC\n",
    "LIMIT 3)\n",
    "\n",
    "\n",
    "SELECT industry,\n",
    "\t\tEXTRACT(year FROM date_joined) AS year,\n",
    "        COUNT(*) AS num_unicorns,\n",
    "        ROUND(AVG(valuation/1000000000),2) AS average_valuation_billions\n",
    "FROM industries\n",
    "INNER JOIN dates\n",
    "\tUSING(company_id)\n",
    "INNER JOIN funding\n",
    "\tUSING(company_id)\n",
    "WHERE industry in (SELECT industry \n",
    "                   FROM top_industries)\n",
    "\tAND EXTRACT(year FROM date_joined) in (2019,2020,2021)\n",
    "GROUP BY industry, year\n",
    "ORDER BY industry,\n",
    "\tyear DESC"
   ]
  },
  {
   "cell_type": "code",
   "execution_count": 34,
   "metadata": {
    "customType": "sql",
    "dataFrameVariableName": "df",
    "initial": false,
    "integrationId": "89e17161-a224-4a8a-846b-0adc0fe7a4b1"
   },
   "outputs": [
    {
     "data": {
      "application/com.datacamp.data-table.v1+json": {
       "table": {
        "data": [
         {
          "average_valuation_billions": 2.47,
          "index": 0,
          "industry": "E-commerce & direct-to-consumer",
          "num_unicorns": 47,
          "year": 2021
         },
         {
          "average_valuation_billions": 4,
          "index": 1,
          "industry": "E-commerce & direct-to-consumer",
          "num_unicorns": 16,
          "year": 2020
         },
         {
          "average_valuation_billions": 2.58,
          "index": 2,
          "industry": "E-commerce & direct-to-consumer",
          "num_unicorns": 12,
          "year": 2019
         },
         {
          "average_valuation_billions": 2.75,
          "index": 3,
          "industry": "Fintech",
          "num_unicorns": 138,
          "year": 2021
         },
         {
          "average_valuation_billions": 4.33,
          "index": 4,
          "industry": "Fintech",
          "num_unicorns": 15,
          "year": 2020
         },
         {
          "average_valuation_billions": 6.8,
          "index": 5,
          "industry": "Fintech",
          "num_unicorns": 20,
          "year": 2019
         },
         {
          "average_valuation_billions": 2.15,
          "index": 6,
          "industry": "Internet software & services",
          "num_unicorns": 119,
          "year": 2021
         },
         {
          "average_valuation_billions": 4.35,
          "index": 7,
          "industry": "Internet software & services",
          "num_unicorns": 20,
          "year": 2020
         },
         {
          "average_valuation_billions": 4.23,
          "index": 8,
          "industry": "Internet software & services",
          "num_unicorns": 13,
          "year": 2019
         }
        ],
        "schema": {
         "fields": [
          {
           "name": "index",
           "type": "integer"
          },
          {
           "name": "industry",
           "type": "string"
          },
          {
           "name": "year",
           "type": "integer"
          },
          {
           "name": "num_unicorns",
           "type": "integer"
          },
          {
           "name": "average_valuation_billions",
           "type": "number"
          }
         ],
         "pandas_version": "1.4.0",
         "primaryKey": [
          "index"
         ]
        }
       },
       "total_rows": 9,
       "truncation_type": null
      },
      "text/html": [
       "<div>\n",
       "<style scoped>\n",
       "    .dataframe tbody tr th:only-of-type {\n",
       "        vertical-align: middle;\n",
       "    }\n",
       "\n",
       "    .dataframe tbody tr th {\n",
       "        vertical-align: top;\n",
       "    }\n",
       "\n",
       "    .dataframe thead th {\n",
       "        text-align: right;\n",
       "    }\n",
       "</style>\n",
       "<table border=\"1\" class=\"dataframe\">\n",
       "  <thead>\n",
       "    <tr style=\"text-align: right;\">\n",
       "      <th></th>\n",
       "      <th>industry</th>\n",
       "      <th>year</th>\n",
       "      <th>num_unicorns</th>\n",
       "      <th>average_valuation_billions</th>\n",
       "    </tr>\n",
       "  </thead>\n",
       "  <tbody>\n",
       "    <tr>\n",
       "      <th>0</th>\n",
       "      <td>E-commerce &amp; direct-to-consumer</td>\n",
       "      <td>2021</td>\n",
       "      <td>47</td>\n",
       "      <td>2.47</td>\n",
       "    </tr>\n",
       "    <tr>\n",
       "      <th>1</th>\n",
       "      <td>E-commerce &amp; direct-to-consumer</td>\n",
       "      <td>2020</td>\n",
       "      <td>16</td>\n",
       "      <td>4.00</td>\n",
       "    </tr>\n",
       "    <tr>\n",
       "      <th>2</th>\n",
       "      <td>E-commerce &amp; direct-to-consumer</td>\n",
       "      <td>2019</td>\n",
       "      <td>12</td>\n",
       "      <td>2.58</td>\n",
       "    </tr>\n",
       "    <tr>\n",
       "      <th>3</th>\n",
       "      <td>Fintech</td>\n",
       "      <td>2021</td>\n",
       "      <td>138</td>\n",
       "      <td>2.75</td>\n",
       "    </tr>\n",
       "    <tr>\n",
       "      <th>4</th>\n",
       "      <td>Fintech</td>\n",
       "      <td>2020</td>\n",
       "      <td>15</td>\n",
       "      <td>4.33</td>\n",
       "    </tr>\n",
       "    <tr>\n",
       "      <th>5</th>\n",
       "      <td>Fintech</td>\n",
       "      <td>2019</td>\n",
       "      <td>20</td>\n",
       "      <td>6.80</td>\n",
       "    </tr>\n",
       "    <tr>\n",
       "      <th>6</th>\n",
       "      <td>Internet software &amp; services</td>\n",
       "      <td>2021</td>\n",
       "      <td>119</td>\n",
       "      <td>2.15</td>\n",
       "    </tr>\n",
       "    <tr>\n",
       "      <th>7</th>\n",
       "      <td>Internet software &amp; services</td>\n",
       "      <td>2020</td>\n",
       "      <td>20</td>\n",
       "      <td>4.35</td>\n",
       "    </tr>\n",
       "    <tr>\n",
       "      <th>8</th>\n",
       "      <td>Internet software &amp; services</td>\n",
       "      <td>2019</td>\n",
       "      <td>13</td>\n",
       "      <td>4.23</td>\n",
       "    </tr>\n",
       "  </tbody>\n",
       "</table>\n",
       "</div>"
      ],
      "text/plain": [
       "                          industry  year  num_unicorns  \\\n",
       "0  E-commerce & direct-to-consumer  2021            47   \n",
       "1  E-commerce & direct-to-consumer  2020            16   \n",
       "2  E-commerce & direct-to-consumer  2019            12   \n",
       "3                          Fintech  2021           138   \n",
       "4                          Fintech  2020            15   \n",
       "5                          Fintech  2019            20   \n",
       "6     Internet software & services  2021           119   \n",
       "7     Internet software & services  2020            20   \n",
       "8     Internet software & services  2019            13   \n",
       "\n",
       "   average_valuation_billions  \n",
       "0                        2.47  \n",
       "1                        4.00  \n",
       "2                        2.58  \n",
       "3                        2.75  \n",
       "4                        4.33  \n",
       "5                        6.80  \n",
       "6                        2.15  \n",
       "7                        4.35  \n",
       "8                        4.23  "
      ]
     },
     "execution_count": 34,
     "metadata": {},
     "output_type": "execute_result"
    }
   ],
   "source": [
    "WITH top_industries AS \n",
    "(SELECT industry, COUNT(*)\n",
    "FROM industries\n",
    "INNER JOIN dates\n",
    "USING(company_id)\n",
    "WHERE EXTRACT(year FROM date_joined) IN (2019,2020,2021)\n",
    "GROUP BY Industry\n",
    "ORDER BY count DESC\n",
    "LIMIT 3) ,\n",
    "\n",
    "yearly_rankings AS\n",
    "(SELECT industry,\n",
    "\t\tEXTRACT(year FROM date_joined) AS year,\n",
    "        COUNT(*) AS num_unicorns,\n",
    "        AVG(valuation) AS average_valuation\n",
    "FROM industries\n",
    "INNER JOIN dates\n",
    "\tUSING(company_id)\n",
    "INNER JOIN funding\n",
    "\tUSING(company_id)\n",
    "GROUP BY industry, year\n",
    ")\n",
    "\n",
    "\n",
    "SELECT industry,\n",
    "\t\tyear,\n",
    "        num_unicorns,\n",
    "        ROUND(AVG(average_valuation/1000000000),2) AS average_valuation_billions\n",
    "FROM yearly_rankings\n",
    "WHERE industry IN (SELECT industry\n",
    "                   FROM top_industries)\n",
    "        AND year IN (2019,2020, 2021)\n",
    "GROUP BY industry, num_unicorns, year , average_valuation\n",
    "ORDER BY industry, year DESC;\n",
    "\n",
    "\n",
    "\n",
    "\n"
   ]
  }
 ],
 "metadata": {
  "colab": {
   "name": "Welcome to DataCamp Workspaces.ipynb",
   "provenance": []
  },
  "editor": "DataCamp Workspace",
  "kernelspec": {
   "display_name": "Python 3",
   "language": "python",
   "name": "python3"
  },
  "language_info": {
   "codemirror_mode": {
    "name": "ipython",
    "version": 3
   },
   "file_extension": ".py",
   "mimetype": "text/x-python",
   "name": "python",
   "nbconvert_exporter": "python",
   "pygments_lexer": "ipython3",
   "version": "3.8.5"
  }
 },
 "nbformat": 4,
 "nbformat_minor": 5
}
