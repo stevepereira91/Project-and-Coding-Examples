{
 "cells": [
  {
   "cell_type": "markdown",
   "metadata": {},
   "source": [
    "This notebook will explore the structures of Medicare and Medicaid claims data using \"Medicare Claims Synthetic Public Use Files\" provided by the Centers of Medicare and Medicaid services."
   ]
  },
  {
   "cell_type": "markdown",
   "metadata": {},
   "source": [
    "# Data Info and Guide"
   ]
  },
  {
   "cell_type": "markdown",
   "metadata": {},
   "source": [
    "### Main Data"
   ]
  },
  {
   "cell_type": "code",
   "execution_count": 343,
   "metadata": {},
   "outputs": [],
   "source": [
    "import pandas as pd\n",
    "import numpy as np\n",
    "import matplotlib.pyplot as plt"
   ]
  },
  {
   "cell_type": "code",
   "execution_count": 344,
   "metadata": {},
   "outputs": [],
   "source": [
    "benef_sum_2010=pd.read_csv(\"Data\\Sample1\\DE1_0_2010_Beneficiary_Summary_File_Sample_1.csv\", dtype = object)\n",
    "benef_sum_2009=pd.read_csv(\"Data\\Sample1\\DE1_0_2009_Beneficiary_Summary_File_Sample_1.csv\", dtype = object)\n",
    "benef_sum_2008 = pd.read_csv(\"Data\\Sample1\\DE1_0_2008_Beneficiary_Summary_File_Sample_1.csv\", dtype = object)\n",
    "\n",
    "benef_sum_2008['SP_STATE_CODE'] = pd.to_numeric(benef_sum_2008['SP_STATE_CODE'])\n",
    "benef_sum_2009['SP_STATE_CODE'] = pd.to_numeric(benef_sum_2009['SP_STATE_CODE'])\n",
    "benef_sum_2010['SP_STATE_CODE'] = pd.to_numeric(benef_sum_2010['SP_STATE_CODE'])\n",
    "\n",
    "benef_sum_2008['BENE_BIRTH_DT'] = pd.to_datetime(benef_sum_2008['BENE_BIRTH_DT'])\n",
    "benef_sum_2009['BENE_BIRTH_DT'] = pd.to_datetime(benef_sum_2009['BENE_BIRTH_DT'])\n",
    "benef_sum_2010['BENE_BIRTH_DT'] = pd.to_datetime(benef_sum_2010['BENE_BIRTH_DT'])\n",
    "\n",
    "benef_sum_2008['BENE_DEATH_DT'] = pd.to_datetime(benef_sum_2008['BENE_DEATH_DT'])\n",
    "benef_sum_2009['BENE_DEATH_DT'] = pd.to_datetime(benef_sum_2009['BENE_DEATH_DT'])\n",
    "benef_sum_2010['BENE_DEATH_DT'] = pd.to_datetime(benef_sum_2010['BENE_DEATH_DT'])"
   ]
  },
  {
   "cell_type": "code",
   "execution_count": 345,
   "metadata": {},
   "outputs": [],
   "source": [
    "pharma = pd.read_csv(\"Data\\Sample1\\DE1_0_2008_to_2010_Prescription_Drug_Events_Sample_1.csv\",dtype = object)\n",
    "\n",
    "col_list = ['QTY_DSPNSD_NUM','DAYS_SUPLY_NUM','PTNT_PAY_AMT','TOT_RX_CST_AMT']\n",
    "\n",
    "for col in col_list:\n",
    "    pharma[col] = pd.to_numeric(pharma[col])\n",
    "    \n",
    "pharma['SRVC_DT'] = pd.to_datetime(pharma['SRVC_DT'])"
   ]
  },
  {
   "cell_type": "code",
   "execution_count": 346,
   "metadata": {},
   "outputs": [],
   "source": [
    "outpatient = pd.read_csv(\"Data\\Sample1\\DE1_0_2008_to_2010_Outpatient_Claims_Sample_1.csv\", dtype = object)\n",
    "inpatient = pd.read_csv(\"Data\\Sample1\\DE1_0_2008_to_2010_Inpatient_Claims_Sample_1.csv\", dtype = object)\n"
   ]
  },
  {
   "cell_type": "markdown",
   "metadata": {},
   "source": [
    "### State Codes"
   ]
  },
  {
   "cell_type": "code",
   "execution_count": 347,
   "metadata": {},
   "outputs": [
    {
     "name": "stdout",
     "output_type": "stream",
     "text": [
      "<class 'pandas.core.frame.DataFrame'>\n",
      "RangeIndex: 79 entries, 0 to 78\n",
      "Data columns (total 3 columns):\n",
      " #   Column      Non-Null Count  Dtype \n",
      "---  ------      --------------  ----- \n",
      " 0   State_Code  79 non-null     int64 \n",
      " 1   State_Name  79 non-null     object\n",
      " 2   State_Desc  79 non-null     object\n",
      "dtypes: int64(1), object(2)\n",
      "memory usage: 2.0+ KB\n"
     ]
    }
   ],
   "source": [
    "state_codes = pd.read_csv(\"Data\\CMSStatecodes.csv\", dtype = object)\n",
    "\n",
    "state_codes['Code'] = pd.to_numeric(state_codes['Code'])\n",
    "\n",
    "state_codes.columns = ['State_Code', 'State_Name', \"State_Desc\"]\n",
    "\n",
    "state_codes.info()"
   ]
  },
  {
   "cell_type": "markdown",
   "metadata": {},
   "source": [
    "### ICD 9 Diagnosis and Procedure Codes"
   ]
  },
  {
   "cell_type": "code",
   "execution_count": 348,
   "metadata": {},
   "outputs": [
    {
     "data": {
      "text/plain": [
       "Index(['Procedure_Code', 'Procedure_Long', 'Procedure_Short'], dtype='object')"
      ]
     },
     "execution_count": 348,
     "metadata": {},
     "output_type": "execute_result"
    }
   ],
   "source": [
    "ICD9_PROC_2010.columns"
   ]
  },
  {
   "cell_type": "code",
   "execution_count": 349,
   "metadata": {},
   "outputs": [],
   "source": [
    "ICD9_DIAG_2010 = pd.read_csv(\"Data\\\\ICD9Codes\\\\2010\\\\V27LONG_SHORT_DX_110909Diag.csv\", \n",
    "                             encoding = 'latin-1')\n",
    "ICD9_DIAG_2010.columns = ['Diagnosis_Code','Diagnosis_Long','Diagnosis_Short']\n",
    "\n",
    "ICD9_PROC_2010 = pd.read_csv(\"Data\\\\ICD9Codes\\\\2010\\\\CMS27_DESC_LONG_SHORT_SG_092709Proc.csv\",\n",
    "                             encoding = 'latin-1',\n",
    "                             dtype = object )\n",
    "ICD9_PROC_2010.columns = ['Procedure_Code','Procedure_Long','Procedure_Short']"
   ]
  },
  {
   "cell_type": "markdown",
   "metadata": {},
   "source": [
    "#### Diagnosis Codes"
   ]
  },
  {
   "cell_type": "code",
   "execution_count": 350,
   "metadata": {},
   "outputs": [
    {
     "name": "stdout",
     "output_type": "stream",
     "text": [
      "<class 'pandas.core.frame.DataFrame'>\n",
      "RangeIndex: 14315 entries, 0 to 14314\n",
      "Data columns (total 3 columns):\n",
      " #   Column           Non-Null Count  Dtype \n",
      "---  ------           --------------  ----- \n",
      " 0   Diagnosis_Code   14315 non-null  object\n",
      " 1   Diagnosis_Long   14315 non-null  object\n",
      " 2   Diagnosis_Short  14315 non-null  object\n",
      "dtypes: object(3)\n",
      "memory usage: 335.6+ KB\n",
      "None\n"
     ]
    },
    {
     "data": {
      "text/html": [
       "<div>\n",
       "<style scoped>\n",
       "    .dataframe tbody tr th:only-of-type {\n",
       "        vertical-align: middle;\n",
       "    }\n",
       "\n",
       "    .dataframe tbody tr th {\n",
       "        vertical-align: top;\n",
       "    }\n",
       "\n",
       "    .dataframe thead th {\n",
       "        text-align: right;\n",
       "    }\n",
       "</style>\n",
       "<table border=\"1\" class=\"dataframe\">\n",
       "  <thead>\n",
       "    <tr style=\"text-align: right;\">\n",
       "      <th></th>\n",
       "      <th>Diagnosis_Code</th>\n",
       "      <th>Diagnosis_Long</th>\n",
       "      <th>Diagnosis_Short</th>\n",
       "    </tr>\n",
       "  </thead>\n",
       "  <tbody>\n",
       "    <tr>\n",
       "      <th>0</th>\n",
       "      <td>0010</td>\n",
       "      <td>Cholera due to vibrio cholerae</td>\n",
       "      <td>Cholera d/t vib cholerae</td>\n",
       "    </tr>\n",
       "    <tr>\n",
       "      <th>1</th>\n",
       "      <td>0011</td>\n",
       "      <td>Cholera due to vibrio cholerae el tor</td>\n",
       "      <td>Cholera d/t vib el tor</td>\n",
       "    </tr>\n",
       "    <tr>\n",
       "      <th>2</th>\n",
       "      <td>0019</td>\n",
       "      <td>Cholera, unspecified</td>\n",
       "      <td>Cholera NOS</td>\n",
       "    </tr>\n",
       "    <tr>\n",
       "      <th>3</th>\n",
       "      <td>0020</td>\n",
       "      <td>Typhoid fever</td>\n",
       "      <td>Typhoid fever</td>\n",
       "    </tr>\n",
       "    <tr>\n",
       "      <th>4</th>\n",
       "      <td>0021</td>\n",
       "      <td>Paratyphoid fever A</td>\n",
       "      <td>Paratyphoid fever a</td>\n",
       "    </tr>\n",
       "  </tbody>\n",
       "</table>\n",
       "</div>"
      ],
      "text/plain": [
       "  Diagnosis_Code                         Diagnosis_Long  \\\n",
       "0           0010         Cholera due to vibrio cholerae   \n",
       "1           0011  Cholera due to vibrio cholerae el tor   \n",
       "2           0019                   Cholera, unspecified   \n",
       "3           0020                          Typhoid fever   \n",
       "4           0021                    Paratyphoid fever A   \n",
       "\n",
       "            Diagnosis_Short  \n",
       "0  Cholera d/t vib cholerae  \n",
       "1    Cholera d/t vib el tor  \n",
       "2               Cholera NOS  \n",
       "3             Typhoid fever  \n",
       "4       Paratyphoid fever a  "
      ]
     },
     "execution_count": 350,
     "metadata": {},
     "output_type": "execute_result"
    }
   ],
   "source": [
    "print(ICD9_DIAG_2010.info())\n",
    "\n",
    "ICD9_DIAG_2010.head()\n"
   ]
  },
  {
   "cell_type": "markdown",
   "metadata": {},
   "source": [
    "#### Procedure Codes"
   ]
  },
  {
   "cell_type": "code",
   "execution_count": 351,
   "metadata": {},
   "outputs": [
    {
     "name": "stdout",
     "output_type": "stream",
     "text": [
      "<class 'pandas.core.frame.DataFrame'>\n",
      "RangeIndex: 3838 entries, 0 to 3837\n",
      "Data columns (total 3 columns):\n",
      " #   Column           Non-Null Count  Dtype \n",
      "---  ------           --------------  ----- \n",
      " 0   Procedure_Code   3838 non-null   object\n",
      " 1   Procedure_Long   3838 non-null   object\n",
      " 2   Procedure_Short  3838 non-null   object\n",
      "dtypes: object(3)\n",
      "memory usage: 90.1+ KB\n",
      "None\n"
     ]
    },
    {
     "data": {
      "text/html": [
       "<div>\n",
       "<style scoped>\n",
       "    .dataframe tbody tr th:only-of-type {\n",
       "        vertical-align: middle;\n",
       "    }\n",
       "\n",
       "    .dataframe tbody tr th {\n",
       "        vertical-align: top;\n",
       "    }\n",
       "\n",
       "    .dataframe thead th {\n",
       "        text-align: right;\n",
       "    }\n",
       "</style>\n",
       "<table border=\"1\" class=\"dataframe\">\n",
       "  <thead>\n",
       "    <tr style=\"text-align: right;\">\n",
       "      <th></th>\n",
       "      <th>Procedure_Code</th>\n",
       "      <th>Procedure_Long</th>\n",
       "      <th>Procedure_Short</th>\n",
       "    </tr>\n",
       "  </thead>\n",
       "  <tbody>\n",
       "    <tr>\n",
       "      <th>0</th>\n",
       "      <td>0001</td>\n",
       "      <td>Therapeutic ultrasound of vessels of head and ...</td>\n",
       "      <td>Ther ult head &amp; neck ves</td>\n",
       "    </tr>\n",
       "    <tr>\n",
       "      <th>1</th>\n",
       "      <td>0002</td>\n",
       "      <td>Therapeutic ultrasound of heart</td>\n",
       "      <td>Ther ultrasound of heart</td>\n",
       "    </tr>\n",
       "    <tr>\n",
       "      <th>2</th>\n",
       "      <td>0003</td>\n",
       "      <td>Therapeutic ultrasound of peripheral vascular ...</td>\n",
       "      <td>Ther ult peripheral ves</td>\n",
       "    </tr>\n",
       "    <tr>\n",
       "      <th>3</th>\n",
       "      <td>0009</td>\n",
       "      <td>Other therapeutic ultrasound</td>\n",
       "      <td>Other therapeutic ultsnd</td>\n",
       "    </tr>\n",
       "    <tr>\n",
       "      <th>4</th>\n",
       "      <td>0010</td>\n",
       "      <td>Implantation of chemotherapeutic agent</td>\n",
       "      <td>Implant chemothera agent</td>\n",
       "    </tr>\n",
       "  </tbody>\n",
       "</table>\n",
       "</div>"
      ],
      "text/plain": [
       "  Procedure_Code                                     Procedure_Long  \\\n",
       "0           0001  Therapeutic ultrasound of vessels of head and ...   \n",
       "1           0002                    Therapeutic ultrasound of heart   \n",
       "2           0003  Therapeutic ultrasound of peripheral vascular ...   \n",
       "3           0009                       Other therapeutic ultrasound   \n",
       "4           0010             Implantation of chemotherapeutic agent   \n",
       "\n",
       "            Procedure_Short  \n",
       "0  Ther ult head & neck ves  \n",
       "1  Ther ultrasound of heart  \n",
       "2   Ther ult peripheral ves  \n",
       "3  Other therapeutic ultsnd  \n",
       "4  Implant chemothera agent  "
      ]
     },
     "execution_count": 351,
     "metadata": {},
     "output_type": "execute_result"
    }
   ],
   "source": [
    "print(ICD9_PROC_2010.info())\n",
    "\n",
    "ICD9_PROC_2010.head()\n"
   ]
  },
  {
   "cell_type": "markdown",
   "metadata": {},
   "source": [
    "## Beneficiary Summary"
   ]
  },
  {
   "cell_type": "markdown",
   "metadata": {},
   "source": [
    "\n",
    "|#|Variable Names| Labels|\n",
    "|:-|:------|------:|\n",
    "|1| DESYNPUF_ID DESYNPUF:| Beneficiary Code|\n",
    "|2| BENE_BIRTH_DT DESYNPUF:| Date of birth|\n",
    "|3| BENE_DEATH_DT DESYNPUF:| Date of death|\n",
    "|4| BENE_SEX_IDENT_CD DESYNPUF:| Sex 1= Male|\n",
    "|5| BENE_RACE_CD DESYNPUF:| Beneficiary Race Code 1=White 2=Black 3=Other 5=Hispanic|\n",
    "|6| BENE_ESRD_IND DESYNPUF:| End stage renal disease Indicator|\n",
    "|7| SP_STATE_CODE DESYNPUF:| State Code|\n",
    "|8| BENE_COUNTY_CD DESYNPUF:| County Code|\n",
    "|9| BENE_HI_CVRAGE_TOT_MONS DESYNPUF:| Total number of months of part A coverage for the\n",
    "beneficiary.|\n",
    "|10| BENE_SMI_CVRAGE_TOT_MONS DESYNPUF:| Total number of months of part B coverage for the\n",
    "beneficiary.|\n",
    "|11| BENE_HMO_CVRAGE_TOT_MONS DESYNPUF:| Total number of months of HMO coverage for the\n",
    "beneficiary.|\n",
    "|12| PLAN_CVRG_MOS_NUM DESYNPUF:| Total number of months of part D plan coverage\n",
    "for the beneficiary.|\n",
    "|13| SP_ALZHDMTA DESYNPUF:| Chronic Condition: Alzheimer or related disorders\n",
    "or senile|\n",
    "|14| SP_CHF DESYNPUF:| Chronic Condition: Heart Failure|\n",
    "|15| SP_CHRNKIDN DESYNPUF:| Chronic Condition: Chronic Kidney Disease|\n",
    "|16| SP_CNCR DESYNPUF:| Chronic Condition: Cancer|\n",
    "|17| SP_COPD DESYNPUF:| Chronic Condition: Chronic Obstructive\n",
    "Pulmonary Disease|\n",
    "|18| SP_DEPRESSN DESYNPUF:| Chronic Condition: Depression|\n",
    "|19| SP_DIABETES DESYNPUF:| Chronic Condition: Diabetes|\n",
    "|20| SP_ISCHMCHT DESYNPUF:| Chronic Condition: Ischemic Heart Disease|\n",
    "|21| SP_OSTEOPRS DESYNPUF:| Chronic Condition: Osteoporosis|\n",
    "|22| SP_RA_OA DESYNPUF:| Chronic Condition: rheumatoid arthritis and\n",
    "osteoarthritis (RA/OA)|\n",
    "|23| SP_STRKETIA DESYNPUF:| Chronic Condition: Stroke/transient Ischemic\n",
    "Attack\n",
    "|24| MEDREIMB_IP DESYNPUF:| Inpatient annual Medicare reimbursement amount|\n",
    "|25| BENRES_IP DESYNPUF:| Inpatient annual beneficiary responsibility amount|\n",
    "|26| PPPYMT_IP DESYNPUF:| Inpatient annual primary payer reimbursement\n",
    "amount|"
   ]
  },
  {
   "cell_type": "markdown",
   "metadata": {},
   "source": [
    "## Inpatient "
   ]
  },
  {
   "cell_type": "markdown",
   "metadata": {},
   "source": [
    "|#| Variable names |Labels|\n",
    "|:-|:------|------------------:|\n",
    "|1| DESYNPUF_ID DESYNPUF:| Beneficiary Code|\n",
    "|2| CLM_ID DESYNPUF:| Claim ID|\n",
    "|3| SEGMENT DESYNPUF:| Claim Line Segment|\n",
    "|4| CLM_FROM_DT DESYNPUF:| Claims start date|\n",
    "|5| CLM_THRU_DT DESYNPUF:| Claims end date|\n",
    "|6| PRVDR_NUM DESYNPUF:| Provider Institution|\n",
    "|7| CLM_PMT_AMT DESYNPUF:| Claim Payment Amount|\n",
    "|8| NCH_PRMRY_PYR_CLM_PD_AMT DESYNPUF:| NCH Primary Payer Claim Paid\n",
    "Amount|\n",
    "|9| AT_PHYSN_NPI DESYNPUF:| Attending Physician – National\n",
    "Provider Identifier Number|\n",
    "|10| OP_PHYSN_NPI DESYNPUF:| Operating Physician – National\n",
    "Provider Identifier Number|\n",
    "|11| OT_PHYSN_NPI DESYNPUF:| Other Physician – National Provider\n",
    "Identifier Number|\n",
    "|12| CLM_ADMSN_DT DESYNPUF:| Inpatient admission date|\n",
    "|13| ADMTNG_ICD9_DGNS_CD DESYNPUF:| Claim Admitting Diagnosis Code|\n",
    "|14| CLM_PASS_THRU_PER_DIEM_AMT DESYNPUF:| Claim Pass Thru Per Diem Amount|\n",
    "|15| NCH_BENE_IP_DDCTBL_AMT DESYNPUF:| NCH Beneficiary Inpatient Deductible\n",
    "Amount|\n",
    "|16| NCH_BENE_PTA_COINSRNC_LBLTY_AM DESYNPUF:| NCH Beneficiary Part A Coinsurance\n",
    "Liability Amount|\n",
    "|17| NCH_BENE_BLOOD_DDCTBL_LBLTY_AM DESYNPUF:| NCH Beneficiary Blood Deductible\n",
    "Liability Amount|\n",
    "|18| CLM_UTLZTN_DAY_CNT DESYNPUF:| Claim Utilization Day Count|\n",
    "|19| NCH_BENE_DSCHRG_DT DESYNPUF:| Inpatient discharged date|\n",
    "|20| CLM_DRG_CD DESYNPUF:| Claim Diagnosis Related Group Code|\n",
    "|21-30| ICD9_DGNS_CD_1 – ICD9_DGNS_CD_10 DESYNPUF:| Claim Diagnosis Code 1 – Claim\n",
    "Diagnosis Code 10|\n",
    "|31-36| ICD9_PRCDR_CD_1 – ICD9_PRCDR_CD_6 DESYNPUF:| Claim Procedure Code 1 – Claim\n",
    "Procedure Code 6|\n",
    "|37-81| HCPCS_CD_1 – HCPCS_CD_45\n",
    "DESYNPUF:| Revenue Center HCFA Common\n",
    "Procedure Coding System 1 – Revenue Center HCFA\n",
    "Common Procedure Coding System 45|"
   ]
  },
  {
   "cell_type": "markdown",
   "metadata": {},
   "source": [
    "## Outpatient"
   ]
  },
  {
   "cell_type": "markdown",
   "metadata": {},
   "source": [
    "|#| Variable names| Labels|\n",
    "|:-|:-----|-----:|\n",
    "|1| DESYNPUF_ID DESYNPUF:| Beneficiary Code|\n",
    "|2| CLM_ID DESYNPUF:| Claim ID|\n",
    "|3| SEGMENT DESYNPUF:| Claim Line Segment|\n",
    "|4| CLM_FROM_DT DESYNPUF:| Claims start date|\n",
    "|5| CLM_THRU_DT DESYNPUF:| Claims end date|\n",
    "|6| PRVDR_NUM DESYNPUF:| Provider Institution|\n",
    "|7| CLM_PMT_AMT DESYNPUF:| Claim Payment Amount|\n",
    "|8| NCH_PRMRY_PYR_CLM_PD_AMT DESYNPUF:| NCH Primary Payer Claim Paid\n",
    "Amount|\n",
    "|9| AT_PHYSN_NPI DESYNPUF:| Attending Physician – National\n",
    "Provider Identifier Number|\n",
    "|10| OP_PHYSN_NPI DESYNPUF:| Operating Physician – National\n",
    "Provider Identifier Number|\n",
    "|11| OT_PHYSN_NPI DESYNPUF:| Other Physician – National Provider\n",
    "Identifier Number|\n",
    "|12| NCH_BENE_BLOOD_DDCTBL_LBLTY_AM DESYNPUF:| NCH Beneficiary Blood Deductible\n",
    "Liability Amount|\n",
    "|13-22| ICD9_DGNS_CD_1 – ICD9_DGNS_CD_10 DESYNPUF:| Claim Diagnosis Code 1 – Claim\n",
    "Diagnosis Code 10|\n",
    "|23-28| ICD9_PRCDR_CD_1 – ICD9_PRCDR_CD_6 DESYNPUF:| Claim Procedure Code 1 – Claim\n",
    "Procedure Code 6|\n",
    "|29| NCH_BENE_PTB_DDCTBL_AMT DESYNPUF:| NCH Beneficiary Part B Deductible\n",
    "Amount|\n",
    "|30| NCH_BENE_PTB_COINSRNC_AMT DESYNPUF:| NCH Beneficiary Part B Coinsurance\n",
    "Amount|\n",
    "|31| ADMTNG_ICD9_DGNS_CD DESYNPUF:| Claim Admitting Diagnosis Code|\n",
    "|32-76| HCPCS_CD_1 – HCPCS_CD_45\n",
    "DESYNPUF:| Revenue Center HCFA Common\n",
    "Procedure Coding System 1 – Revenue Center\n",
    "HCFA Common Procedure Coding System 45|"
   ]
  },
  {
   "cell_type": "markdown",
   "metadata": {},
   "source": [
    "   ## Prescription Drug Events"
   ]
  },
  {
   "cell_type": "markdown",
   "metadata": {},
   "source": [
    "|#| Variable names| Labels|\n",
    "|-|:-----|-----:|\n",
    "|1| DESYNPUF_ID DESYNPUF:| Beneficiary Code|\n",
    "|2| PDE_ID DESYNPUF:| CCW Part D Event Number|\n",
    "|3| SRVC_DT DESYNPUF:| RX Service Date|\n",
    "|4| PROD_SRVC_ID DESYNPUF:| Product Service ID|\n",
    "|5| QTY_DSPNSD_NUM DESYNPUF:| Quantity Dispensed|\n",
    "|6| DAYS_SUPLY_NUM DESYNPUF:| Days Supply|\n",
    "|7| PTNT_PAY_AMT DESYNPUF:| Patient Pay Amount|\n",
    "|8| TOT_RX_CST_AMT DESYNPUF:| Gross Drug Cost|"
   ]
  },
  {
   "cell_type": "markdown",
   "metadata": {},
   "source": [
    "# Practice Stats"
   ]
  },
  {
   "cell_type": "markdown",
   "metadata": {},
   "source": [
    "## Prescription Drugs"
   ]
  },
  {
   "cell_type": "markdown",
   "metadata": {},
   "source": [
    "### Total Prescription cost per Beneficiary"
   ]
  },
  {
   "cell_type": "code",
   "execution_count": 352,
   "metadata": {},
   "outputs": [],
   "source": [
    "pharma['QTY_DSPNSD_NUM'] = pd.to_numeric(pharma['QTY_DSPNSD_NUM'])\n",
    "pharma['DAYS_SUPLY_NUM'] = pd.to_numeric(pharma['DAYS_SUPLY_NUM'])\n",
    "pharma['PTNT_PAY_AMT'] = pd.to_numeric(pharma['PTNT_PAY_AMT'])\n",
    "pharma['TOT_RX_CST_AMT'] = pd.to_numeric(pharma['TOT_RX_CST_AMT'])"
   ]
  },
  {
   "cell_type": "code",
   "execution_count": 353,
   "metadata": {},
   "outputs": [],
   "source": [
    "pharm_cost_by_user =[]\n",
    "pharm_cost_by_user = pharma.groupby('DESYNPUF_ID')[['PTNT_PAY_AMT', 'TOT_RX_CST_AMT']].sum()"
   ]
  },
  {
   "cell_type": "code",
   "execution_count": 354,
   "metadata": {},
   "outputs": [],
   "source": [
    "pharm_cost_by_user['Cost_Covered_Ins'] = pharm_cost_by_user['TOT_RX_CST_AMT']- pharm_cost_by_user['PTNT_PAY_AMT']\n",
    "pharm_cost_by_user['Patient_Cost_Per'] = pharm_cost_by_user['PTNT_PAY_AMT']/pharm_cost_by_user['TOT_RX_CST_AMT']*100\n",
    "pharm_cost_by_user['Insur_Cov_Per'] = pharm_cost_by_user['Cost_Covered_Ins']/pharm_cost_by_user['TOT_RX_CST_AMT']*100"
   ]
  },
  {
   "cell_type": "code",
   "execution_count": 355,
   "metadata": {},
   "outputs": [
    {
     "data": {
      "text/html": [
       "<div>\n",
       "<style scoped>\n",
       "    .dataframe tbody tr th:only-of-type {\n",
       "        vertical-align: middle;\n",
       "    }\n",
       "\n",
       "    .dataframe tbody tr th {\n",
       "        vertical-align: top;\n",
       "    }\n",
       "\n",
       "    .dataframe thead th {\n",
       "        text-align: right;\n",
       "    }\n",
       "</style>\n",
       "<table border=\"1\" class=\"dataframe\">\n",
       "  <thead>\n",
       "    <tr style=\"text-align: right;\">\n",
       "      <th></th>\n",
       "      <th>PTNT_PAY_AMT</th>\n",
       "      <th>TOT_RX_CST_AMT</th>\n",
       "      <th>Cost_Covered_Ins</th>\n",
       "      <th>Patient_Cost_Per</th>\n",
       "      <th>Insur_Cov_Per</th>\n",
       "    </tr>\n",
       "    <tr>\n",
       "      <th>DESYNPUF_ID</th>\n",
       "      <th></th>\n",
       "      <th></th>\n",
       "      <th></th>\n",
       "      <th></th>\n",
       "      <th></th>\n",
       "    </tr>\n",
       "  </thead>\n",
       "  <tbody>\n",
       "    <tr>\n",
       "      <th>00013D2EFD8E45D1</th>\n",
       "      <td>2270.0</td>\n",
       "      <td>14360.0</td>\n",
       "      <td>12090.0</td>\n",
       "      <td>15.807799</td>\n",
       "      <td>84.192201</td>\n",
       "    </tr>\n",
       "    <tr>\n",
       "      <th>00016F745862898F</th>\n",
       "      <td>60.0</td>\n",
       "      <td>2080.0</td>\n",
       "      <td>2020.0</td>\n",
       "      <td>2.884615</td>\n",
       "      <td>97.115385</td>\n",
       "    </tr>\n",
       "    <tr>\n",
       "      <th>0001FDD721E223DC</th>\n",
       "      <td>760.0</td>\n",
       "      <td>3000.0</td>\n",
       "      <td>2240.0</td>\n",
       "      <td>25.333333</td>\n",
       "      <td>74.666667</td>\n",
       "    </tr>\n",
       "    <tr>\n",
       "      <th>00021CA6FF03E670</th>\n",
       "      <td>30.0</td>\n",
       "      <td>670.0</td>\n",
       "      <td>640.0</td>\n",
       "      <td>4.477612</td>\n",
       "      <td>95.522388</td>\n",
       "    </tr>\n",
       "    <tr>\n",
       "      <th>00024B3D2352D2D0</th>\n",
       "      <td>200.0</td>\n",
       "      <td>220.0</td>\n",
       "      <td>20.0</td>\n",
       "      <td>90.909091</td>\n",
       "      <td>9.090909</td>\n",
       "    </tr>\n",
       "  </tbody>\n",
       "</table>\n",
       "</div>"
      ],
      "text/plain": [
       "                  PTNT_PAY_AMT  TOT_RX_CST_AMT  Cost_Covered_Ins  \\\n",
       "DESYNPUF_ID                                                        \n",
       "00013D2EFD8E45D1        2270.0         14360.0           12090.0   \n",
       "00016F745862898F          60.0          2080.0            2020.0   \n",
       "0001FDD721E223DC         760.0          3000.0            2240.0   \n",
       "00021CA6FF03E670          30.0           670.0             640.0   \n",
       "00024B3D2352D2D0         200.0           220.0              20.0   \n",
       "\n",
       "                  Patient_Cost_Per  Insur_Cov_Per  \n",
       "DESYNPUF_ID                                        \n",
       "00013D2EFD8E45D1         15.807799      84.192201  \n",
       "00016F745862898F          2.884615      97.115385  \n",
       "0001FDD721E223DC         25.333333      74.666667  \n",
       "00021CA6FF03E670          4.477612      95.522388  \n",
       "00024B3D2352D2D0         90.909091       9.090909  "
      ]
     },
     "execution_count": 355,
     "metadata": {},
     "output_type": "execute_result"
    }
   ],
   "source": [
    "pharm_cost_by_user.head()"
   ]
  },
  {
   "cell_type": "code",
   "execution_count": 356,
   "metadata": {},
   "outputs": [
    {
     "data": {
      "image/png": "[encoded data removed]",
      "text/plain": [
       "<Figure size 432x288 with 1 Axes>"
      ]
     },
     "metadata": {
      "needs_background": "light"
     },
     "output_type": "display_data"
    },
    {
     "name": "stdout",
     "output_type": "stream",
     "text": [
      "count    99538.000000\n",
      "mean       575.044405\n",
      "std        642.438354\n",
      "min          0.000000\n",
      "25%         40.000000\n",
      "50%        330.000000\n",
      "75%        920.000000\n",
      "max       4440.000000\n",
      "Name: PTNT_PAY_AMT, dtype: float64\n",
      "\n",
      "The number of beneficiaries who paid no out of pocket prescription costs: 7513\n",
      "\n"
     ]
    }
   ],
   "source": [
    "plt.hist(pharm_cost_by_user['PTNT_PAY_AMT'], bins= 100)\n",
    "plt.title('Total Out of Pocket Prescription Cost By Beneficiary')\n",
    "plt.xlabel('Cost($)')\n",
    "plt.ylabel('Frequency')\n",
    "plt.show()\n",
    "\n",
    "print(pharm_cost_by_user['PTNT_PAY_AMT'].describe())\n",
    "print()\n",
    "print(\"The number of beneficiaries who paid no out of pocket prescription costs: {}\".format(\n",
    "                            len(pharm_cost_by_user[pharm_cost_by_user['PTNT_PAY_AMT']==0])))\n",
    "print()"
   ]
  },
  {
   "cell_type": "code",
   "execution_count": 357,
   "metadata": {},
   "outputs": [
    {
     "name": "stdout",
     "output_type": "stream",
     "text": [
      "Number of beneficiaries who overpaid for Prescriptions: 933\n"
     ]
    }
   ],
   "source": [
    "mask = (pharm_cost_by_user['TOT_RX_CST_AMT']-pharm_cost_by_user['PTNT_PAY_AMT'])<0\n",
    "overpayments = pharm_cost_by_user[mask]\n",
    "print(\"Number of beneficiaries who overpaid for Prescriptions: {}\".format(len(overpayments)))"
   ]
  },
  {
   "cell_type": "code",
   "execution_count": 358,
   "metadata": {},
   "outputs": [
    {
     "data": {
      "image/png": "[encoded data removed]",
      "text/plain": [
       "<Figure size 432x288 with 1 Axes>"
      ]
     },
     "metadata": {
      "needs_background": "light"
     },
     "output_type": "display_data"
    },
    {
     "data": {
      "text/plain": [
       "count    98143.000000\n",
       "mean        20.102713\n",
       "std         15.857785\n",
       "min          0.000000\n",
       "25%         11.929379\n",
       "50%         17.475728\n",
       "75%         24.000000\n",
       "max        100.000000\n",
       "Name: Patient_Cost_Per, dtype: float64"
      ]
     },
     "execution_count": 358,
     "metadata": {},
     "output_type": "execute_result"
    }
   ],
   "source": [
    "regular_payments = pharm_cost_by_user[~mask]\n",
    "\n",
    "plt.hist(regular_payments['Patient_Cost_Per'], bins = 100)\n",
    "plt.title('Patient Out of Pocket Prescription Cost as Percent of Total Cost ')\n",
    "plt.ylabel('Frequency')\n",
    "plt.xlabel('Percent')\n",
    "plt.show()\n",
    "\n",
    "regular_payments['Patient_Cost_Per'].describe()"
   ]
  },
  {
   "cell_type": "markdown",
   "metadata": {},
   "source": [
    "## Prescription Spending by State"
   ]
  },
  {
   "cell_type": "code",
   "execution_count": 359,
   "metadata": {},
   "outputs": [
    {
     "data": {
      "text/html": [
       "<div>\n",
       "<style scoped>\n",
       "    .dataframe tbody tr th:only-of-type {\n",
       "        vertical-align: middle;\n",
       "    }\n",
       "\n",
       "    .dataframe tbody tr th {\n",
       "        vertical-align: top;\n",
       "    }\n",
       "\n",
       "    .dataframe thead th {\n",
       "        text-align: right;\n",
       "    }\n",
       "</style>\n",
       "<table border=\"1\" class=\"dataframe\">\n",
       "  <thead>\n",
       "    <tr style=\"text-align: right;\">\n",
       "      <th></th>\n",
       "      <th>DESYNPUF_ID</th>\n",
       "      <th>SP_STATE_CODE</th>\n",
       "      <th>BENE_BIRTH_DT</th>\n",
       "      <th>BENE_SEX_IDENT_CD</th>\n",
       "      <th>BENE_RACE_CD</th>\n",
       "      <th>State_Code</th>\n",
       "      <th>State_Name</th>\n",
       "      <th>State_Desc</th>\n",
       "    </tr>\n",
       "  </thead>\n",
       "  <tbody>\n",
       "    <tr>\n",
       "      <th>0</th>\n",
       "      <td>00013D2EFD8E45D1</td>\n",
       "      <td>26</td>\n",
       "      <td>1923-05-01</td>\n",
       "      <td>1</td>\n",
       "      <td>1</td>\n",
       "      <td>26</td>\n",
       "      <td>Missouri</td>\n",
       "      <td>Missouri</td>\n",
       "    </tr>\n",
       "    <tr>\n",
       "      <th>1</th>\n",
       "      <td>00016F745862898F</td>\n",
       "      <td>39</td>\n",
       "      <td>1943-01-01</td>\n",
       "      <td>1</td>\n",
       "      <td>1</td>\n",
       "      <td>39</td>\n",
       "      <td>Pennsylvania</td>\n",
       "      <td>Pennsylvania</td>\n",
       "    </tr>\n",
       "    <tr>\n",
       "      <th>2</th>\n",
       "      <td>0001FDD721E223DC</td>\n",
       "      <td>39</td>\n",
       "      <td>1936-09-01</td>\n",
       "      <td>2</td>\n",
       "      <td>1</td>\n",
       "      <td>39</td>\n",
       "      <td>Pennsylvania</td>\n",
       "      <td>Pennsylvania</td>\n",
       "    </tr>\n",
       "    <tr>\n",
       "      <th>3</th>\n",
       "      <td>00021CA6FF03E670</td>\n",
       "      <td>6</td>\n",
       "      <td>1941-06-01</td>\n",
       "      <td>1</td>\n",
       "      <td>5</td>\n",
       "      <td>6</td>\n",
       "      <td>Colorado</td>\n",
       "      <td>Colorado</td>\n",
       "    </tr>\n",
       "    <tr>\n",
       "      <th>4</th>\n",
       "      <td>00024B3D2352D2D0</td>\n",
       "      <td>52</td>\n",
       "      <td>1936-08-01</td>\n",
       "      <td>1</td>\n",
       "      <td>1</td>\n",
       "      <td>52</td>\n",
       "      <td>Wisconsin</td>\n",
       "      <td>Wisconsin</td>\n",
       "    </tr>\n",
       "  </tbody>\n",
       "</table>\n",
       "</div>"
      ],
      "text/plain": [
       "        DESYNPUF_ID  SP_STATE_CODE BENE_BIRTH_DT BENE_SEX_IDENT_CD  \\\n",
       "0  00013D2EFD8E45D1             26    1923-05-01                 1   \n",
       "1  00016F745862898F             39    1943-01-01                 1   \n",
       "2  0001FDD721E223DC             39    1936-09-01                 2   \n",
       "3  00021CA6FF03E670              6    1941-06-01                 1   \n",
       "4  00024B3D2352D2D0             52    1936-08-01                 1   \n",
       "\n",
       "  BENE_RACE_CD  State_Code    State_Name    State_Desc  \n",
       "0            1          26      Missouri      Missouri  \n",
       "1            1          39  Pennsylvania  Pennsylvania  \n",
       "2            1          39  Pennsylvania  Pennsylvania  \n",
       "3            5           6      Colorado      Colorado  \n",
       "4            1          52     Wisconsin     Wisconsin  "
      ]
     },
     "execution_count": 359,
     "metadata": {},
     "output_type": "execute_result"
    }
   ],
   "source": [
    "demo_2008 = benef_sum_2008[['DESYNPUF_ID', \n",
    "                            'SP_STATE_CODE',\n",
    "                            'BENE_BIRTH_DT', \n",
    "                            \"BENE_SEX_IDENT_CD\",\n",
    "                            \"BENE_RACE_CD\"]]\n",
    "\n",
    "\n",
    "\n",
    "demo_2008 = demo_2008.merge(state_codes, \n",
    "                            how = 'left', \n",
    "                            left_on = 'SP_STATE_CODE',\n",
    "                            right_on = \"State_Code\")\n",
    "\n",
    "demo_2008.head()"
   ]
  },
  {
   "cell_type": "code",
   "execution_count": 360,
   "metadata": {},
   "outputs": [],
   "source": [
    "pharma_demo = pharma.merge(demo_2008, \n",
    "                           how = 'left',\n",
    "                          left_on = 'DESYNPUF_ID',\n",
    "                          right_on = 'DESYNPUF_ID')"
   ]
  },
  {
   "cell_type": "code",
   "execution_count": 361,
   "metadata": {},
   "outputs": [],
   "source": [
    "spending_by_state = pharma_demo.groupby('State_Name')['TOT_RX_CST_AMT'].sum()"
   ]
  },
  {
   "cell_type": "code",
   "execution_count": 362,
   "metadata": {},
   "outputs": [
    {
     "data": {
      "image/png": "[encoded data removed]",
      "text/plain": [
       "<Figure size 432x288 with 1 Axes>"
      ]
     },
     "metadata": {
      "needs_background": "light"
     },
     "output_type": "display_data"
    },
    {
     "data": {
      "image/png": "[encoded data removed]",
      "text/plain": [
       "<Figure size 432x288 with 1 Axes>"
      ]
     },
     "metadata": {
      "needs_background": "light"
     },
     "output_type": "display_data"
    }
   ],
   "source": [
    "top_10 = spending_by_state.sort_values(ascending= False).head(10)\n",
    "bottom_10 = spending_by_state.sort_values(ascending= True).head(10)\n",
    "\n",
    "top_10.plot(kind='bar')\n",
    "plt.title('Total Prescription Spending by State(Top 10)')\n",
    "plt.xlabel('State')\n",
    "plt.ylabel('Dollars(10 Million)')\n",
    "plt.xticks(rotation=65)\n",
    "plt.show()\n",
    "\n",
    "bottom_10.sort_values(ascending=False).plot(kind ='bar')\n",
    "plt.title('Total Prescription Spending by State(Bottom 10)')\n",
    "plt.xlabel('State')\n",
    "plt.ylabel('Dollars(Million)')\n",
    "plt.xticks(rotation=65)\n",
    "plt.show()"
   ]
  },
  {
   "cell_type": "markdown",
   "metadata": {},
   "source": [
    "## Inpatient Visit"
   ]
  },
  {
   "cell_type": "markdown",
   "metadata": {},
   "source": [
    "### Admitting Codes by Sex"
   ]
  },
  {
   "cell_type": "code",
   "execution_count": 363,
   "metadata": {},
   "outputs": [],
   "source": [
    "demo_2008 = benef_sum_2008[['DESYNPUF_ID', \n",
    "                            'SP_STATE_CODE',\n",
    "                            'BENE_BIRTH_DT', \n",
    "                            \"BENE_SEX_IDENT_CD\",\n",
    "                            \"BENE_RACE_CD\"]]"
   ]
  },
  {
   "cell_type": "code",
   "execution_count": 364,
   "metadata": {},
   "outputs": [],
   "source": [
    "admitting_diagnosis = inpatient.merge(ICD9_DIAG_2010, \n",
    "                                        how = 'left',\n",
    "                                        right_on = 'Diagnosis_Code',\n",
    "                                        left_on = 'ADMTNG_ICD9_DGNS_CD')\n",
    "\n",
    "admitting_diagnosis = admitting_diagnosis.merge(demo_2008,\n",
    "                                               how = 'left',\n",
    "                                               on = 'DESYNPUF_ID')"
   ]
  },
  {
   "cell_type": "code",
   "execution_count": 365,
   "metadata": {},
   "outputs": [
    {
     "data": {
      "text/plain": [
       "BENE_SEX_IDENT_CD  BENE_SEX_IDENT_CD  Diagnosis_Long                       \n",
       "1                  1                  Chest pain, unspecified                  1193\n",
       "                                      Shortness of breath                      1170\n",
       "                                      Pneumonia, organism unspecified          1067\n",
       "                                      Congestive heart failure, unspecified     785\n",
       "                                      Syncope and collapse                      736\n",
       "2                  2                  Shortness of breath                      1569\n",
       "                                      Chest pain, unspecified                  1504\n",
       "                                      Pneumonia, organism unspecified          1296\n",
       "                                      Congestive heart failure, unspecified    1044\n",
       "                                      Syncope and collapse                      943\n",
       "Name: Diagnosis_Long, dtype: int64"
      ]
     },
     "execution_count": 365,
     "metadata": {},
     "output_type": "execute_result"
    }
   ],
   "source": [
    "diagnosis_by_sex = admitting_diagnosis.groupby('BENE_SEX_IDENT_CD')['Diagnosis_Long'].value_counts()\n",
    "diagnosis_by_sex.groupby('BENE_SEX_IDENT_CD').nlargest(5)"
   ]
  },
  {
   "cell_type": "code",
   "execution_count": 366,
   "metadata": {},
   "outputs": [
    {
     "data": {
      "image/png": "[encoded data removed]",
      "text/plain": [
       "<Figure size 432x288 with 1 Axes>"
      ]
     },
     "metadata": {
      "needs_background": "light"
     },
     "output_type": "display_data"
    },
    {
     "data": {
      "image/png": "[encoded data removed]",
      "text/plain": [
       "<Figure size 432x288 with 1 Axes>"
      ]
     },
     "metadata": {
      "needs_background": "light"
     },
     "output_type": "display_data"
    }
   ],
   "source": [
    "male_admitting_diagnosis = admitting_diagnosis[admitting_diagnosis['BENE_SEX_IDENT_CD']=='1']\n",
    "female_admitting_diagnosis = admitting_diagnosis[admitting_diagnosis['BENE_SEX_IDENT_CD']=='2']\n",
    "\n",
    "male_admitting_diagnosis['Diagnosis_Long'].value_counts().head(10).plot(kind='bar')\n",
    "plt.ylabel('Frequency')\n",
    "plt.xlabel('Admitting Code (ICD9)')\n",
    "plt.title('Top Inpatient Admitting Code (Male)')\n",
    "plt.show()\n",
    "\n",
    "\n",
    "\n",
    "female_admitting_diagnosis['Diagnosis_Long'].value_counts().head(10).plot(kind='bar')\n",
    "plt.ylabel('Frequency')\n",
    "plt.xlabel('Admitting Code (ICD9)')\n",
    "plt.title('Top Inpatient Admitting Code (Female)')\n",
    "plt.show()"
   ]
  },
  {
   "cell_type": "markdown",
   "metadata": {},
   "source": [
    "### Admitting Codes by Race"
   ]
  },
  {
   "cell_type": "code",
   "execution_count": 367,
   "metadata": {},
   "outputs": [
    {
     "data": {
      "text/plain": [
       "BENE_RACE_CD  BENE_RACE_CD  Diagnosis_Long                                         \n",
       "1             1             Shortness of breath                                        2295\n",
       "                            Chest pain, unspecified                                    2279\n",
       "                            Pneumonia, organism unspecified                            1978\n",
       "                            Congestive heart failure, unspecified                      1532\n",
       "                            Syncope and collapse                                       1416\n",
       "2             2             Shortness of breath                                         308\n",
       "                            Chest pain, unspecified                                     290\n",
       "                            Pneumonia, organism unspecified                             257\n",
       "                            Congestive heart failure, unspecified                       198\n",
       "                            Syncope and collapse                                        177\n",
       "3             3             Shortness of breath                                          83\n",
       "                            Chest pain, unspecified                                      77\n",
       "                            Pneumonia, organism unspecified                              73\n",
       "                            Congestive heart failure, unspecified                        61\n",
       "                            Care involving other specified rehabilitation procedure      54\n",
       "5             5             Pneumonia, organism unspecified                              55\n",
       "                            Shortness of breath                                          53\n",
       "                            Chest pain, unspecified                                      51\n",
       "                            Congestive heart failure, unspecified                        38\n",
       "                            Syncope and collapse                                         33\n",
       "Name: Diagnosis_Long, dtype: int64"
      ]
     },
     "execution_count": 367,
     "metadata": {},
     "output_type": "execute_result"
    }
   ],
   "source": [
    "diagnosis_by_race = admitting_diagnosis.groupby('BENE_RACE_CD')['Diagnosis_Long'].value_counts()\n",
    "diagnosis_by_race.groupby('BENE_RACE_CD').nlargest(5)"
   ]
  },
  {
   "cell_type": "code",
   "execution_count": null,
   "metadata": {},
   "outputs": [],
   "source": []
  }
 ],
 "metadata": {
  "kernelspec": {
   "display_name": "Python 3",
   "language": "python",
   "name": "python3"
  },
  "language_info": {
   "codemirror_mode": {
    "name": "ipython",
    "version": 3
   },
   "file_extension": ".py",
   "mimetype": "text/x-python",
   "name": "python",
   "nbconvert_exporter": "python",
   "pygments_lexer": "ipython3",
   "version": "3.8.5"
  }
 },
 "nbformat": 4,
 "nbformat_minor": 4
}
